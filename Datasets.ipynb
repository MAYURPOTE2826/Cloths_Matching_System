{
 "cells": [
  {
   "cell_type": "code",
   "execution_count": 28,
   "id": "921ae892-6d88-495c-8b50-e62b02eb282d",
   "metadata": {},
   "outputs": [
    {
     "name": "stdout",
     "output_type": "stream",
     "text": [
      "✅ Extended dataset created successfully! Total rows: 120\n",
      "  shirt_color_name shirt_hex pant_color_name pant_hex accessory_suggestion  \\\n",
      "0             Cyan   #00FFFF            Mint  #98FF98            Black cap   \n",
      "1            Brown   #A52A2A        Hot Pink  #FF69B4           Gold chain   \n",
      "2            Black   #000000        Sky Blue  #87CEEB     Black sunglasses   \n",
      "3        Dark Gray   #A9A9A9         Magenta  #FF00FF       Leather wallet   \n",
      "4             Pink   #FFC0CB        Hot Pink  #FF69B4       White sneakers   \n",
      "5           Maroon   #800000           Coral  #FF7F50            White hat   \n",
      "6            Brown   #A52A2A      Royal Blue  #4169E1            White hat   \n",
      "7         Sky Blue   #87CEEB          Orange  #FFA500          Silver ring   \n",
      "8        Dark Gray   #A9A9A9            Pink  #FFC0CB     Black sunglasses   \n",
      "9             Blue   #0000FF           Peach  #FFDAB9      Silver bracelet   \n",
      "\n",
      "    style_type  \n",
      "0      Festive  \n",
      "1  Traditional  \n",
      "2        Party  \n",
      "3        Funky  \n",
      "4       Formal  \n",
      "5        Party  \n",
      "6       Trendy  \n",
      "7      Festive  \n",
      "8        Party  \n",
      "9       Trendy  \n"
     ]
    }
   ],
   "source": [
    "import pandas as pd\n",
    "import random   \n",
    "colors = {\n",
    "    \"White\": \"#FFFFFF\", \"Black\": \"#000000\", \"Gray\": \"#808080\", \"Light Gray\": \"#D3D3D3\", \"Dark Gray\": \"#A9A9A9\",\n",
    "    \"Navy Blue\": \"#000080\", \"Sky Blue\": \"#87CEEB\", \"Royal Blue\": \"#4169E1\", \"Cyan\": \"#00FFFF\", \"Blue\": \"#0000FF\",\n",
    "    \"Beige\": \"#F5F5DC\", \"Cream\": \"#FFFDD0\", \"Khaki\": \"#C3B091\", \"Brown\": \"#A52A2A\", \"Chocolate\": \"#7B3F00\",\n",
    "    \"Green\": \"#008000\", \"Olive\": \"#808000\", \"Teal\": \"#008080\", \"Mint\": \"#98FF98\", \"Forest Green\": \"#228B22\",\n",
    "    \"Red\": \"#FF0000\", \"Maroon\": \"#800000\", \"Coral\": \"#FF7F50\", \"Orange\": \"#FFA500\", \"Peach\": \"#FFDAB9\",\n",
    "    \"Yellow\": \"#FFFF00\", \"Gold\": \"#FFD700\", \"Mustard\": \"#FFDB58\",\n",
    "    \"Pink\": \"#FFC0CB\", \"Hot Pink\": \"#FF69B4\", \"Magenta\": \"#FF00FF\", \"Lavender\": \"#E6E6FA\", \"Purple\": \"#800080\", \"Violet\": \"#EE82EE\"\n",
    "}\n",
    "\n",
    "accessories = [\n",
    "    \"Silver watch\", \"Gold chain\", \"Leather belt\", \"Black sunglasses\", \"White sneakers\", \"Brown loafers\", \"Silver bracelet\",\n",
    "    \"Pearl earrings\", \"Brown sandals\", \"Tan watch\", \"Silver necklace\", \"Black cap\", \"Gold ring\", \"Red scarf\", \"White hat\",\n",
    "    \"Blue tie\", \"Brown shoes\", \"Silver ring\", \"Leather wallet\", \"White goggles\"\n",
    "]\n",
    "\n",
    "style_types = [\"Casual\", \"Formal\", \"Semi-formal\", \"Party\", \"Festive\", \"Traditional\", \"Funky\", \"Elegant\", \"Trendy\"]\n",
    "\n",
    "\n",
    "def generate_match(shirt_name, shirt_hex):\n",
    "    pant_name, pant_hex = random.choice(list(colors.items()))\n",
    "    while pant_name == shirt_name:\n",
    "        pant_name, pant_hex = random.choice(list(colors.items()))\n",
    "    accessory = random.choice(accessories)\n",
    "    style = random.choice(style_types)\n",
    "    return [shirt_name, shirt_hex, pant_name, pant_hex, accessory, style]\n",
    "\n",
    "rows = []\n",
    "for i in range(120):\n",
    "    shirt_name, shirt_hex = random.choice(list(colors.items()))\n",
    "    rows.append(generate_match(shirt_name, shirt_hex))\n",
    "\n",
    "df = pd.DataFrame(rows, columns=[\"shirt_color_name\",\"shirt_hex\",\"pant_color_name\",\"pant_hex\",\"accessory_suggestion\",\"style_type\"])\n",
    "\n",
    "\n",
    "df.drop_duplicates(inplace=True)\n",
    "\n",
    "\n",
    "df.to_csv(\"color_match_dataset_extended.csv\", index=False)\n",
    "print(\"✅ Extended dataset created successfully! Total rows:\", len(df))\n",
    "print(df.head(10))\n"
   ]
  },
  {
   "cell_type": "code",
   "execution_count": null,
   "id": "0d41bfd8-1cc5-4ff1-ac37-28d9bf362c61",
   "metadata": {},
   "outputs": [],
   "source": []
  }
 ],
 "metadata": {
  "kernelspec": {
   "display_name": "Python 3 (ipykernel)",
   "language": "python",
   "name": "python3"
  },
  "language_info": {
   "codemirror_mode": {
    "name": "ipython",
    "version": 3
   },
   "file_extension": ".py",
   "mimetype": "text/x-python",
   "name": "python",
   "nbconvert_exporter": "python",
   "pygments_lexer": "ipython3",
   "version": "3.12.7"
  }
 },
 "nbformat": 4,
 "nbformat_minor": 5
}
